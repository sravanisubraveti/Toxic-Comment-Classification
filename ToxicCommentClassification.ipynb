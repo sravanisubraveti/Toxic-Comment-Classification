{
  "nbformat": 4,
  "nbformat_minor": 0,
  "metadata": {
    "kernelspec": {
      "language": "python",
      "display_name": "Python 3",
      "name": "python3"
    },
    "language_info": {
      "pygments_lexer": "ipython3",
      "nbconvert_exporter": "python",
      "version": "3.6.4",
      "file_extension": ".py",
      "codemirror_mode": {
        "name": "ipython",
        "version": 3
      },
      "name": "python",
      "mimetype": "text/x-python"
    },
    "colab": {
      "name": "ToxicCommentClassification.ipynb",
      "provenance": [],
      "collapsed_sections": []
    },
    "accelerator": "GPU"
  },
  "cells": [
    {
      "cell_type": "markdown",
      "metadata": {
        "id": "l9f4tAuFQTvH"
      },
      "source": [
        "### Importing Data from Kaggle"
      ]
    },
    {
      "cell_type": "code",
      "metadata": {
        "colab": {
          "resources": {
            "http://localhost:8080/nbextensions/google.colab/files.js": {
              "data": "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",
              "ok": true,
              "headers": [
                [
                  "content-type",
                  "application/javascript"
                ]
              ],
              "status": 200,
              "status_text": ""
            }
          },
          "base_uri": "https://localhost:8080/",
          "height": 72
        },
        "id": "MXjY0aNImFHR",
        "outputId": "05d3b64e-d9a2-46a3-a513-b2be26b43a71"
      },
      "source": [
        "from google.colab import files\n",
        "uploaded = files.upload()"
      ],
      "execution_count": null,
      "outputs": [
        {
          "output_type": "display_data",
          "data": {
            "text/html": [
              "\n",
              "     <input type=\"file\" id=\"files-3070a712-1ef2-4d40-b87b-fb415f40f902\" name=\"files[]\" multiple disabled\n",
              "        style=\"border:none\" />\n",
              "     <output id=\"result-3070a712-1ef2-4d40-b87b-fb415f40f902\">\n",
              "      Upload widget is only available when the cell has been executed in the\n",
              "      current browser session. Please rerun this cell to enable.\n",
              "      </output>\n",
              "      <script src=\"/nbextensions/google.colab/files.js\"></script> "
            ],
            "text/plain": [
              "<IPython.core.display.HTML object>"
            ]
          },
          "metadata": {
            "tags": []
          }
        },
        {
          "output_type": "stream",
          "text": [
            "Saving kaggle.json to kaggle.json\n"
          ],
          "name": "stdout"
        }
      ]
    },
    {
      "cell_type": "code",
      "metadata": {
        "colab": {
          "base_uri": "https://localhost:8080/"
        },
        "id": "PDD1GjG8mJUq",
        "outputId": "444a9000-3066-4fbb-ec61-7d71f41c5962"
      },
      "source": [
        "!pip install -q kaggle\n",
        "\n",
        "# Let's make sure the kaggle.json file is present.\n",
        "!ls -lha kaggle.json\n",
        "\n",
        "# Next, install the Kaggle API client.\n",
        "!pip install -q kaggle\n",
        "\n",
        "# The Kaggle API client expects this file to be in ~/.kaggle,\n",
        "# so move it there.\n",
        "!mkdir -p ~/.kaggle\n",
        "!cp kaggle.json ~/.kaggle/\n",
        "\n",
        "# This permissions change avoids a warning on Kaggle tool startup.\n",
        "!chmod 600 ~/.kaggle/kaggle.json\n",
        "\n",
        "# !kaggle datasets download -d bharath150/minidata\n",
        "\n",
        "# !unzip minidata.zip"
      ],
      "execution_count": null,
      "outputs": [
        {
          "output_type": "stream",
          "text": [
            "-rw-r--r-- 1 root root 72 Jun 25 22:32 kaggle.json\n"
          ],
          "name": "stdout"
        }
      ]
    },
    {
      "cell_type": "code",
      "metadata": {
        "id": "zZ9PkZyemS8n"
      },
      "source": [
        "import numpy as np # linear algebra\n",
        "import pandas as pd # data processing, CSV file I/O (e.g. pd.read_csv)\n",
        "import zipfile as zf\n",
        "import re\n",
        "import random\n",
        "import math\n",
        "import matplotlib.pyplot as plt\n",
        "%matplotlib inline"
      ],
      "execution_count": null,
      "outputs": []
    },
    {
      "cell_type": "code",
      "metadata": {
        "colab": {
          "base_uri": "https://localhost:8080/"
        },
        "id": "XJ5hWnGSmWXL",
        "outputId": "47a541ca-1ceb-4d43-ea9e-8a0aba87b608"
      },
      "source": [
        "!kaggle competitions download -c jigsaw-toxic-comment-classification-challenge"
      ],
      "execution_count": null,
      "outputs": [
        {
          "output_type": "stream",
          "text": [
            "Warning: Looks like you're using an outdated API Version, please consider updating (server 1.5.12 / client 1.5.4)\n",
            "Downloading train.csv.zip to /content\n",
            " 95% 25.0M/26.3M [00:01<00:00, 17.2MB/s]\n",
            "100% 26.3M/26.3M [00:01<00:00, 23.7MB/s]\n",
            "Downloading sample_submission.csv.zip to /content\n",
            "  0% 0.00/1.39M [00:00<?, ?B/s]\n",
            "100% 1.39M/1.39M [00:00<00:00, 197MB/s]\n",
            "Downloading test.csv.zip to /content\n",
            " 90% 21.0M/23.4M [00:01<00:00, 12.1MB/s]\n",
            "100% 23.4M/23.4M [00:01<00:00, 12.5MB/s]\n",
            "Downloading test_labels.csv.zip to /content\n",
            "  0% 0.00/1.46M [00:00<?, ?B/s]\n",
            "100% 1.46M/1.46M [00:00<00:00, 97.4MB/s]\n"
          ],
          "name": "stdout"
        }
      ]
    },
    {
      "cell_type": "code",
      "metadata": {
        "colab": {
          "base_uri": "https://localhost:8080/"
        },
        "id": "QNrLlJSLmZ7y",
        "outputId": "ce0cc513-dc4f-43c7-96a2-361cb3420f5d"
      },
      "source": [
        "!unzip train.csv.zip\n",
        "!unzip test.csv.zip\n",
        "!unzip test_labels.csv.zip\n",
        "!unzip sample_submission.csv.zip"
      ],
      "execution_count": null,
      "outputs": [
        {
          "output_type": "stream",
          "text": [
            "Archive:  train.csv.zip\n",
            "  inflating: train.csv               \n",
            "Archive:  test.csv.zip\n",
            "  inflating: test.csv                \n",
            "Archive:  test_labels.csv.zip\n",
            "  inflating: test_labels.csv         \n",
            "Archive:  sample_submission.csv.zip\n",
            "  inflating: sample_submission.csv   \n"
          ],
          "name": "stdout"
        }
      ]
    },
    {
      "cell_type": "code",
      "metadata": {
        "execution": {
          "iopub.status.busy": "2021-06-13T21:42:10.097437Z",
          "iopub.execute_input": "2021-06-13T21:42:10.09776Z",
          "iopub.status.idle": "2021-06-13T21:42:13.327157Z",
          "shell.execute_reply.started": "2021-06-13T21:42:10.09773Z",
          "shell.execute_reply": "2021-06-13T21:42:13.326233Z"
        },
        "trusted": true,
        "id": "dq-77p-JlnTD"
      },
      "source": [
        "# import pandas as pd\n",
        "# train_data = pd.read_csv('/kaggle/input/toxic-comment-classification/train.csv/train.csv')\n",
        "\n",
        "# test_data = pd.read_csv('/kaggle/input/toxic-comment-classification/test.csv/test.csv')"
      ],
      "execution_count": null,
      "outputs": []
    },
    {
      "cell_type": "code",
      "metadata": {
        "execution": {
          "iopub.status.busy": "2021-06-13T21:42:14.664545Z",
          "iopub.execute_input": "2021-06-13T21:42:14.664881Z",
          "iopub.status.idle": "2021-06-13T21:42:14.672065Z",
          "shell.execute_reply.started": "2021-06-13T21:42:14.664849Z",
          "shell.execute_reply": "2021-06-13T21:42:14.670923Z"
        },
        "trusted": true,
        "id": "o5UyDtkwlnTD"
      },
      "source": [
        "import numpy as np # linear algebra\n",
        "import pandas as pd # data processing, CSV file I/O (e.g. pd.read_csv)\n",
        "import zipfile as zf\n",
        "import re\n",
        "import random\n",
        "import math\n",
        "import matplotlib.pyplot as plt\n",
        "%matplotlib inline"
      ],
      "execution_count": null,
      "outputs": []
    },
    {
      "cell_type": "code",
      "metadata": {
        "colab": {
          "base_uri": "https://localhost:8080/",
          "height": 204
        },
        "id": "MsUT-6Oem30W",
        "outputId": "eae5c114-3a45-4ceb-f9ce-c99d242ac325"
      },
      "source": [
        "train_data = pd.read_csv('train.csv.zip')\n",
        "train_data.head()"
      ],
      "execution_count": null,
      "outputs": [
        {
          "output_type": "execute_result",
          "data": {
            "text/html": [
              "<div>\n",
              "<style scoped>\n",
              "    .dataframe tbody tr th:only-of-type {\n",
              "        vertical-align: middle;\n",
              "    }\n",
              "\n",
              "    .dataframe tbody tr th {\n",
              "        vertical-align: top;\n",
              "    }\n",
              "\n",
              "    .dataframe thead th {\n",
              "        text-align: right;\n",
              "    }\n",
              "</style>\n",
              "<table border=\"1\" class=\"dataframe\">\n",
              "  <thead>\n",
              "    <tr style=\"text-align: right;\">\n",
              "      <th></th>\n",
              "      <th>id</th>\n",
              "      <th>comment_text</th>\n",
              "      <th>toxic</th>\n",
              "      <th>severe_toxic</th>\n",
              "      <th>obscene</th>\n",
              "      <th>threat</th>\n",
              "      <th>insult</th>\n",
              "      <th>identity_hate</th>\n",
              "    </tr>\n",
              "  </thead>\n",
              "  <tbody>\n",
              "    <tr>\n",
              "      <th>0</th>\n",
              "      <td>0000997932d777bf</td>\n",
              "      <td>Explanation\\nWhy the edits made under my usern...</td>\n",
              "      <td>0</td>\n",
              "      <td>0</td>\n",
              "      <td>0</td>\n",
              "      <td>0</td>\n",
              "      <td>0</td>\n",
              "      <td>0</td>\n",
              "    </tr>\n",
              "    <tr>\n",
              "      <th>1</th>\n",
              "      <td>000103f0d9cfb60f</td>\n",
              "      <td>D'aww! He matches this background colour I'm s...</td>\n",
              "      <td>0</td>\n",
              "      <td>0</td>\n",
              "      <td>0</td>\n",
              "      <td>0</td>\n",
              "      <td>0</td>\n",
              "      <td>0</td>\n",
              "    </tr>\n",
              "    <tr>\n",
              "      <th>2</th>\n",
              "      <td>000113f07ec002fd</td>\n",
              "      <td>Hey man, I'm really not trying to edit war. It...</td>\n",
              "      <td>0</td>\n",
              "      <td>0</td>\n",
              "      <td>0</td>\n",
              "      <td>0</td>\n",
              "      <td>0</td>\n",
              "      <td>0</td>\n",
              "    </tr>\n",
              "    <tr>\n",
              "      <th>3</th>\n",
              "      <td>0001b41b1c6bb37e</td>\n",
              "      <td>\"\\nMore\\nI can't make any real suggestions on ...</td>\n",
              "      <td>0</td>\n",
              "      <td>0</td>\n",
              "      <td>0</td>\n",
              "      <td>0</td>\n",
              "      <td>0</td>\n",
              "      <td>0</td>\n",
              "    </tr>\n",
              "    <tr>\n",
              "      <th>4</th>\n",
              "      <td>0001d958c54c6e35</td>\n",
              "      <td>You, sir, are my hero. Any chance you remember...</td>\n",
              "      <td>0</td>\n",
              "      <td>0</td>\n",
              "      <td>0</td>\n",
              "      <td>0</td>\n",
              "      <td>0</td>\n",
              "      <td>0</td>\n",
              "    </tr>\n",
              "  </tbody>\n",
              "</table>\n",
              "</div>"
            ],
            "text/plain": [
              "                 id  ... identity_hate\n",
              "0  0000997932d777bf  ...             0\n",
              "1  000103f0d9cfb60f  ...             0\n",
              "2  000113f07ec002fd  ...             0\n",
              "3  0001b41b1c6bb37e  ...             0\n",
              "4  0001d958c54c6e35  ...             0\n",
              "\n",
              "[5 rows x 8 columns]"
            ]
          },
          "metadata": {
            "tags": []
          },
          "execution_count": 20
        }
      ]
    },
    {
      "cell_type": "markdown",
      "metadata": {
        "id": "kT6Wy4UBBFrd"
      },
      "source": [
        "The toxic data set is categorised into 6 different categories. Each comment is categorised into either one of the labels. We can observe that, few of the comments are not given any labels. "
      ]
    },
    {
      "cell_type": "code",
      "metadata": {
        "colab": {
          "base_uri": "https://localhost:8080/",
          "height": 204
        },
        "id": "0WL0uPUVm61u",
        "outputId": "9eb18b93-6fc7-4ec8-84da-e73bbbb8a8a2"
      },
      "source": [
        "test_data = pd.read_csv('test.csv.zip')\n",
        "test_data.head()"
      ],
      "execution_count": null,
      "outputs": [
        {
          "output_type": "execute_result",
          "data": {
            "text/html": [
              "<div>\n",
              "<style scoped>\n",
              "    .dataframe tbody tr th:only-of-type {\n",
              "        vertical-align: middle;\n",
              "    }\n",
              "\n",
              "    .dataframe tbody tr th {\n",
              "        vertical-align: top;\n",
              "    }\n",
              "\n",
              "    .dataframe thead th {\n",
              "        text-align: right;\n",
              "    }\n",
              "</style>\n",
              "<table border=\"1\" class=\"dataframe\">\n",
              "  <thead>\n",
              "    <tr style=\"text-align: right;\">\n",
              "      <th></th>\n",
              "      <th>id</th>\n",
              "      <th>comment_text</th>\n",
              "    </tr>\n",
              "  </thead>\n",
              "  <tbody>\n",
              "    <tr>\n",
              "      <th>0</th>\n",
              "      <td>00001cee341fdb12</td>\n",
              "      <td>Yo bitch Ja Rule is more succesful then you'll...</td>\n",
              "    </tr>\n",
              "    <tr>\n",
              "      <th>1</th>\n",
              "      <td>0000247867823ef7</td>\n",
              "      <td>== From RfC == \\n\\n The title is fine as it is...</td>\n",
              "    </tr>\n",
              "    <tr>\n",
              "      <th>2</th>\n",
              "      <td>00013b17ad220c46</td>\n",
              "      <td>\" \\n\\n == Sources == \\n\\n * Zawe Ashton on Lap...</td>\n",
              "    </tr>\n",
              "    <tr>\n",
              "      <th>3</th>\n",
              "      <td>00017563c3f7919a</td>\n",
              "      <td>:If you have a look back at the source, the in...</td>\n",
              "    </tr>\n",
              "    <tr>\n",
              "      <th>4</th>\n",
              "      <td>00017695ad8997eb</td>\n",
              "      <td>I don't anonymously edit articles at all.</td>\n",
              "    </tr>\n",
              "  </tbody>\n",
              "</table>\n",
              "</div>"
            ],
            "text/plain": [
              "                 id                                       comment_text\n",
              "0  00001cee341fdb12  Yo bitch Ja Rule is more succesful then you'll...\n",
              "1  0000247867823ef7  == From RfC == \\n\\n The title is fine as it is...\n",
              "2  00013b17ad220c46  \" \\n\\n == Sources == \\n\\n * Zawe Ashton on Lap...\n",
              "3  00017563c3f7919a  :If you have a look back at the source, the in...\n",
              "4  00017695ad8997eb          I don't anonymously edit articles at all."
            ]
          },
          "metadata": {
            "tags": []
          },
          "execution_count": 21
        }
      ]
    },
    {
      "cell_type": "code",
      "metadata": {
        "execution": {
          "iopub.status.busy": "2021-06-13T21:42:15.584532Z",
          "iopub.execute_input": "2021-06-13T21:42:15.58488Z",
          "iopub.status.idle": "2021-06-13T21:42:15.651238Z",
          "shell.execute_reply.started": "2021-06-13T21:42:15.584835Z",
          "shell.execute_reply": "2021-06-13T21:42:15.650291Z"
        },
        "trusted": true,
        "colab": {
          "base_uri": "https://localhost:8080/"
        },
        "id": "8cWG7I7AlnTE",
        "outputId": "8724ad7f-2c31-4e72-f5c7-2495b853150e"
      },
      "source": [
        "train_data.isnull().sum()"
      ],
      "execution_count": null,
      "outputs": [
        {
          "output_type": "execute_result",
          "data": {
            "text/plain": [
              "id               0\n",
              "comment_text     0\n",
              "toxic            0\n",
              "severe_toxic     0\n",
              "obscene          0\n",
              "threat           0\n",
              "insult           0\n",
              "identity_hate    0\n",
              "dtype: int64"
            ]
          },
          "metadata": {
            "tags": []
          },
          "execution_count": 22
        }
      ]
    },
    {
      "cell_type": "code",
      "metadata": {
        "execution": {
          "iopub.status.busy": "2021-06-13T21:42:16.45454Z",
          "iopub.execute_input": "2021-06-13T21:42:16.454859Z",
          "iopub.status.idle": "2021-06-13T21:42:16.496292Z",
          "shell.execute_reply.started": "2021-06-13T21:42:16.454827Z",
          "shell.execute_reply": "2021-06-13T21:42:16.495171Z"
        },
        "trusted": true,
        "colab": {
          "base_uri": "https://localhost:8080/",
          "height": 204
        },
        "id": "WjS8VJTGlnTE",
        "outputId": "d484d8fd-a3d5-4604-a463-17fee7be5129"
      },
      "source": [
        "train_data.drop(['id'],axis=1,inplace=True)\n",
        "test_data.drop(['id'],axis=1,inplace=True)\n",
        "train_data.head()"
      ],
      "execution_count": null,
      "outputs": [
        {
          "output_type": "execute_result",
          "data": {
            "text/html": [
              "<div>\n",
              "<style scoped>\n",
              "    .dataframe tbody tr th:only-of-type {\n",
              "        vertical-align: middle;\n",
              "    }\n",
              "\n",
              "    .dataframe tbody tr th {\n",
              "        vertical-align: top;\n",
              "    }\n",
              "\n",
              "    .dataframe thead th {\n",
              "        text-align: right;\n",
              "    }\n",
              "</style>\n",
              "<table border=\"1\" class=\"dataframe\">\n",
              "  <thead>\n",
              "    <tr style=\"text-align: right;\">\n",
              "      <th></th>\n",
              "      <th>comment_text</th>\n",
              "      <th>toxic</th>\n",
              "      <th>severe_toxic</th>\n",
              "      <th>obscene</th>\n",
              "      <th>threat</th>\n",
              "      <th>insult</th>\n",
              "      <th>identity_hate</th>\n",
              "    </tr>\n",
              "  </thead>\n",
              "  <tbody>\n",
              "    <tr>\n",
              "      <th>0</th>\n",
              "      <td>Explanation\\nWhy the edits made under my usern...</td>\n",
              "      <td>0</td>\n",
              "      <td>0</td>\n",
              "      <td>0</td>\n",
              "      <td>0</td>\n",
              "      <td>0</td>\n",
              "      <td>0</td>\n",
              "    </tr>\n",
              "    <tr>\n",
              "      <th>1</th>\n",
              "      <td>D'aww! He matches this background colour I'm s...</td>\n",
              "      <td>0</td>\n",
              "      <td>0</td>\n",
              "      <td>0</td>\n",
              "      <td>0</td>\n",
              "      <td>0</td>\n",
              "      <td>0</td>\n",
              "    </tr>\n",
              "    <tr>\n",
              "      <th>2</th>\n",
              "      <td>Hey man, I'm really not trying to edit war. It...</td>\n",
              "      <td>0</td>\n",
              "      <td>0</td>\n",
              "      <td>0</td>\n",
              "      <td>0</td>\n",
              "      <td>0</td>\n",
              "      <td>0</td>\n",
              "    </tr>\n",
              "    <tr>\n",
              "      <th>3</th>\n",
              "      <td>\"\\nMore\\nI can't make any real suggestions on ...</td>\n",
              "      <td>0</td>\n",
              "      <td>0</td>\n",
              "      <td>0</td>\n",
              "      <td>0</td>\n",
              "      <td>0</td>\n",
              "      <td>0</td>\n",
              "    </tr>\n",
              "    <tr>\n",
              "      <th>4</th>\n",
              "      <td>You, sir, are my hero. Any chance you remember...</td>\n",
              "      <td>0</td>\n",
              "      <td>0</td>\n",
              "      <td>0</td>\n",
              "      <td>0</td>\n",
              "      <td>0</td>\n",
              "      <td>0</td>\n",
              "    </tr>\n",
              "  </tbody>\n",
              "</table>\n",
              "</div>"
            ],
            "text/plain": [
              "                                        comment_text  ...  identity_hate\n",
              "0  Explanation\\nWhy the edits made under my usern...  ...              0\n",
              "1  D'aww! He matches this background colour I'm s...  ...              0\n",
              "2  Hey man, I'm really not trying to edit war. It...  ...              0\n",
              "3  \"\\nMore\\nI can't make any real suggestions on ...  ...              0\n",
              "4  You, sir, are my hero. Any chance you remember...  ...              0\n",
              "\n",
              "[5 rows x 7 columns]"
            ]
          },
          "metadata": {
            "tags": []
          },
          "execution_count": 23
        }
      ]
    },
    {
      "cell_type": "markdown",
      "metadata": {
        "id": "yFnvNFXOUdiG"
      },
      "source": [
        "We can observe in the above cell, there are html remarks, exclaimatory remarks, and capital letters in the text. In order to obtain accurate sentiment from the text, there is need to clean the data and make the text understandable to the model, applied. So the below is the steps applied for pre-processing of the text.  "
      ]
    },
    {
      "cell_type": "markdown",
      "metadata": {
        "id": "T3Ut1dj6lnTE"
      },
      "source": [
        "## Pre-Processing"
      ]
    },
    {
      "cell_type": "code",
      "metadata": {
        "execution": {
          "iopub.status.busy": "2021-06-13T21:42:17.803334Z",
          "iopub.execute_input": "2021-06-13T21:42:17.803664Z",
          "iopub.status.idle": "2021-06-13T21:42:19.426244Z",
          "shell.execute_reply.started": "2021-06-13T21:42:17.803636Z",
          "shell.execute_reply": "2021-06-13T21:42:19.425501Z"
        },
        "trusted": true,
        "colab": {
          "base_uri": "https://localhost:8080/"
        },
        "id": "Jj9oMSLllnTF",
        "outputId": "f1147ac4-6067-4ae2-db3f-686b892bd66b"
      },
      "source": [
        "import nltk\n",
        "nltk.download('punkt')\n",
        "nltk.download('stopwords')\n",
        "nltk.download('wordnet')"
      ],
      "execution_count": null,
      "outputs": [
        {
          "output_type": "stream",
          "text": [
            "[nltk_data] Downloading package punkt to /root/nltk_data...\n",
            "[nltk_data]   Package punkt is already up-to-date!\n",
            "[nltk_data] Downloading package stopwords to /root/nltk_data...\n",
            "[nltk_data]   Package stopwords is already up-to-date!\n",
            "[nltk_data] Downloading package wordnet to /root/nltk_data...\n",
            "[nltk_data]   Package wordnet is already up-to-date!\n"
          ],
          "name": "stdout"
        },
        {
          "output_type": "execute_result",
          "data": {
            "text/plain": [
              "True"
            ]
          },
          "metadata": {
            "tags": []
          },
          "execution_count": 24
        }
      ]
    },
    {
      "cell_type": "code",
      "metadata": {
        "execution": {
          "iopub.status.busy": "2021-06-13T21:42:43.425153Z",
          "iopub.execute_input": "2021-06-13T21:42:43.42549Z",
          "iopub.status.idle": "2021-06-13T21:42:51.681877Z",
          "shell.execute_reply.started": "2021-06-13T21:42:43.425459Z",
          "shell.execute_reply": "2021-06-13T21:42:51.680922Z"
        },
        "trusted": true,
        "colab": {
          "base_uri": "https://localhost:8080/"
        },
        "id": "MduzqabjlnTF",
        "outputId": "6dc03ca6-7a69-46e1-8855-9c75fec86d90"
      },
      "source": [
        "from nltk.tokenize import word_tokenize\n",
        "import re\n",
        "import string\n",
        "from nltk.stem import WordNetLemmatizer\n",
        "from nltk.corpus import stopwords\n",
        "\n",
        "def clean_data(data_t):\n",
        "  html = re.compile(r'<.*?>')\n",
        "  data_t =  re.sub(html,'',data_t)\n",
        "  data_t =  re.sub('\\[[^]]*\\]','',data_t)\n",
        "  data_t = data_t.lower()\n",
        "  special_char = r'[^a-zA-z0-9\\s]'\n",
        "  data_t = re.sub(special_char,'',data_t)\n",
        "  data_t = re.sub('\\n','' ,data_t)\n",
        "\n",
        "  return data_t\n",
        "train_data['comment_text'] = train_data['comment_text'].apply(lambda x: clean_data(x))\n",
        "train_data['comment_text'] = train_data['comment_text'].map(lambda x: x.strip())\n",
        "\n",
        "\n",
        "test_data['comment_text'] = test_data['comment_text'].apply(lambda x: clean_data(x))\n",
        "test_data['comment_text'] = test_data['comment_text'].map(lambda x: x.strip())\n",
        "train_data['comment_text'].head()"
      ],
      "execution_count": null,
      "outputs": [
        {
          "output_type": "execute_result",
          "data": {
            "text/plain": [
              "0    explanationwhy the edits made under my usernam...\n",
              "1    daww he matches this background colour im seem...\n",
              "2    hey man im really not trying to edit war its j...\n",
              "3    morei cant make any real suggestions on improv...\n",
              "4    you sir are my hero any chance you remember wh...\n",
              "Name: comment_text, dtype: object"
            ]
          },
          "metadata": {
            "tags": []
          },
          "execution_count": 25
        }
      ]
    },
    {
      "cell_type": "markdown",
      "metadata": {
        "id": "Wi2qHO9YVROb"
      },
      "source": [
        "Initially pre-processing steps include, removing html remarks, lowering the letters, removing puncuation marks. After applying the steps, we can observe the changes in the sample train data, where there is no instance of html, all the letters are in lower, and all the punctuation remarks are removed. \n",
        "Further, we apply stop words, tokenization and lemmatization techniques"
      ]
    },
    {
      "cell_type": "code",
      "metadata": {
        "execution": {
          "iopub.status.busy": "2021-06-13T21:42:51.683501Z",
          "iopub.execute_input": "2021-06-13T21:42:51.683849Z",
          "iopub.status.idle": "2021-06-13T21:42:51.692726Z",
          "shell.execute_reply.started": "2021-06-13T21:42:51.683812Z",
          "shell.execute_reply": "2021-06-13T21:42:51.691931Z"
        },
        "trusted": true,
        "colab": {
          "base_uri": "https://localhost:8080/"
        },
        "id": "IVAWrS09lnTF",
        "outputId": "996164dd-a2bf-419c-fcf0-41a8fbe94618"
      },
      "source": [
        "train_data['comment_text'].sample(n=10)"
      ],
      "execution_count": null,
      "outputs": [
        {
          "output_type": "execute_result",
          "data": {
            "text/plain": [
              "69322     i wrote that shit ages ago what are you a slak...\n",
              "14577     these abuses have no place in wikipedia taunti...\n",
              "159067    you mean it is funny because no reliable sourc...\n",
              "83312     enough vandalism child your edits are neither ...\n",
              "38209     thank you for your patience i hope all of this...\n",
              "151825    dude giacomo if you want a better website try ...\n",
              "3412      im ready now to try to improve the article but...\n",
              "78038     the last sentance of this article doesnt make ...\n",
              "1064      your bizarre fascination with me is disturbing...\n",
              "43364     unblock although they may be in ill taste to s...\n",
              "Name: comment_text, dtype: object"
            ]
          },
          "metadata": {
            "tags": []
          },
          "execution_count": 26
        }
      ]
    },
    {
      "cell_type": "code",
      "metadata": {
        "execution": {
          "iopub.status.busy": "2021-06-13T21:42:54.605383Z",
          "iopub.execute_input": "2021-06-13T21:42:54.605717Z",
          "iopub.status.idle": "2021-06-13T21:47:14.101942Z",
          "shell.execute_reply.started": "2021-06-13T21:42:54.605688Z",
          "shell.execute_reply": "2021-06-13T21:47:14.101218Z"
        },
        "trusted": true,
        "id": "um8DFbz-lnTG"
      },
      "source": [
        "def remove_stopwords(data_t):\n",
        "   stop_words = set(stopwords.words('english'))\n",
        "\n",
        "   words_token = word_tokenize(data_t)\n",
        "   s = [w for w in words_token if  w not in stop_words]\n",
        "   return s \n",
        "lemmatizer = WordNetLemmatizer()\n",
        "w_tokenizer = nltk.tokenize.WhitespaceTokenizer()\n",
        "# def lemma(data_t):\n",
        "#     return [lemmatizer.lemmatize(word) for word in data_t]\n",
        "def lemmatization(words):\n",
        "  #new = []\n",
        "\n",
        "  #new.append(lem_words)\n",
        "  words =  [lemmatizer.lemmatize(x) for x in words]\n",
        "  return words\n",
        "# def lemmatization(s):\n",
        "#   s = [wnl.lemmatize(word) for word in s]\n",
        "#   return s\n",
        "\n",
        "    \n",
        "\n",
        "\n"
      ],
      "execution_count": null,
      "outputs": []
    },
    {
      "cell_type": "markdown",
      "metadata": {
        "id": "WfGQYZohWXgg"
      },
      "source": [
        "The text in tokenization step, we break the sentence into words. Obtained words are applied english stop words, where the important words in the english corpus is identified and stored, while the other unimportant words are removed. Later,  in the lemmatization step, various forms of the words are turned into a single word. Eg: run , ran, running is made into run. "
      ]
    },
    {
      "cell_type": "code",
      "metadata": {
        "colab": {
          "base_uri": "https://localhost:8080/"
        },
        "id": "he1uPxDCW_FC",
        "outputId": "cd6ebf55-17bb-4332-89ca-79fbc4090c8c"
      },
      "source": [
        "train_data['comment_text']"
      ],
      "execution_count": null,
      "outputs": [
        {
          "output_type": "execute_result",
          "data": {
            "text/plain": [
              "0         explanationwhy the edits made under my usernam...\n",
              "1         daww he matches this background colour im seem...\n",
              "2         hey man im really not trying to edit war its j...\n",
              "3         morei cant make any real suggestions on improv...\n",
              "4         you sir are my hero any chance you remember wh...\n",
              "                                ...                        \n",
              "159566    and for the second time of asking when your vi...\n",
              "159567    you should be ashamed of yourself that is a ho...\n",
              "159568    spitzer umm theres no actual article for prost...\n",
              "159569    and it looks like it was actually you who put ...\n",
              "159570    and  i really dont think you understand  i cam...\n",
              "Name: comment_text, Length: 159571, dtype: object"
            ]
          },
          "metadata": {
            "tags": []
          },
          "execution_count": 28
        }
      ]
    },
    {
      "cell_type": "markdown",
      "metadata": {
        "id": "DB-IY25_Z1Sm"
      },
      "source": [
        "The above data is the pre-processed data, however, we can still see there are words like trying, asking, actually, even after lemmatization step, this is becaused, in the lemmazition of the words are usually transformed into same lemma if they have same parts of speech."
      ]
    },
    {
      "cell_type": "code",
      "metadata": {
        "colab": {
          "base_uri": "https://localhost:8080/"
        },
        "id": "PD5dVSq0W9bf",
        "outputId": "cab8d46b-313d-477d-e008-9ef1fdbb994d"
      },
      "source": [
        "train_data['comment_text'] = train_data['comment_text'].apply(lambda x: remove_stopwords(x))\n",
        "#train_data['comment_text'] = train_data['comment_text'].apply(lambda x: word_tokenize(x))\n",
        "train_data['comment_text']\n",
        "\n",
        "\n"
      ],
      "execution_count": null,
      "outputs": [
        {
          "output_type": "execute_result",
          "data": {
            "text/plain": [
              "0         [explanationwhy, edits, made, username, hardco...\n",
              "1         [daww, matches, background, colour, im, seemin...\n",
              "2         [hey, man, im, really, trying, edit, war, guy,...\n",
              "3         [morei, cant, make, real, suggestions, improve...\n",
              "4                [sir, hero, chance, remember, page, thats]\n",
              "                                ...                        \n",
              "159566    [second, time, asking, view, completely, contr...\n",
              "159567    [ashamed, horrible, thing, put, talk, page, 12...\n",
              "159568    [spitzer, umm, theres, actual, article, prosti...\n",
              "159569    [looks, like, actually, put, speedy, first, ve...\n",
              "159570    [really, dont, think, understand, came, idea, ...\n",
              "Name: comment_text, Length: 159571, dtype: object"
            ]
          },
          "metadata": {
            "tags": []
          },
          "execution_count": 29
        }
      ]
    },
    {
      "cell_type": "code",
      "metadata": {
        "colab": {
          "base_uri": "https://localhost:8080/"
        },
        "id": "uQEDjViVb856",
        "outputId": "349e5a4e-cadc-4a63-961d-52a78bff1336"
      },
      "source": [
        "# train_data['comment_text'] = train_data['comment_text'].apply(lemmatization)\n",
        "\n",
        "#train_data['comment_text'] = train_data['comment_text'].assign(col_lemma = train_data.col.apply(lambda x: lemmatize(x)))\n",
        "# train_data = train_data.assign(comment_text = train_data.col.apply(lambda x: lemma(x)))\n",
        "train_data = train_data.assign(comment_text = train_data.comment_text.apply(lambda x: lemmatization(x)))\n",
        "train_data['comment_text'].head()"
      ],
      "execution_count": null,
      "outputs": [
        {
          "output_type": "execute_result",
          "data": {
            "text/plain": [
              "0    [explanationwhy, edits, made, username, hardco...\n",
              "1    [daww, match, background, colour, im, seemingl...\n",
              "2    [hey, man, im, really, trying, edit, war, guy,...\n",
              "3    [morei, cant, make, real, suggestion, improvem...\n",
              "4           [sir, hero, chance, remember, page, thats]\n",
              "Name: comment_text, dtype: object"
            ]
          },
          "metadata": {
            "tags": []
          },
          "execution_count": 30
        }
      ]
    },
    {
      "cell_type": "code",
      "metadata": {
        "colab": {
          "base_uri": "https://localhost:8080/"
        },
        "id": "tUvikW6cZ14n",
        "outputId": "8ac0b100-2d04-4311-9154-a5788df30801"
      },
      "source": [
        "test_data['comment_text'] = test_data['comment_text'].apply(lambda x: remove_stopwords(x))\n",
        "#train_data['comment_text'] = train_data['comment_text'].apply(lambda x: word_tokenize(x))\n",
        "#test_data['comment_text'] = test_data['comment_text'].words.apply(lemmatization)\n",
        "test_data = test_data.assign(comment_text = test_data.comment_text.apply(lambda x: lemmatization(x)))\n",
        "test_data['comment_text'].head()"
      ],
      "execution_count": null,
      "outputs": [
        {
          "output_type": "execute_result",
          "data": {
            "text/plain": [
              "0    [yo, bitch, ja, rule, succesful, youll, ever, ...\n",
              "1                              [rfc, title, fine, imo]\n",
              "2                      [source, zawe, ashton, lapland]\n",
              "3    [look, back, source, information, updated, cor...\n",
              "4                   [dont, anonymously, edit, article]\n",
              "Name: comment_text, dtype: object"
            ]
          },
          "metadata": {
            "tags": []
          },
          "execution_count": 31
        }
      ]
    },
    {
      "cell_type": "code",
      "metadata": {
        "colab": {
          "base_uri": "https://localhost:8080/"
        },
        "id": "SRO8qgf0b7oo",
        "outputId": "efe73afd-dc1f-46cb-e138-9af548331299"
      },
      "source": [
        "train_data['comment_text'].sample(n =10)\n"
      ],
      "execution_count": null,
      "outputs": [
        {
          "output_type": "execute_result",
          "data": {
            "text/plain": [
              "50256     [ed, trice, checker, hi, saw, changed, checker...\n",
              "32034     [utcbache, simple, mean, brat, modern, general...\n",
              "99895     [dont, guy, refer, main, shadow, cabinet, arti...\n",
              "4279      [short, consensus, agreement, least, four, fiv...\n",
              "86202     [could, ask, reliable, source, noticeboard, al...\n",
              "46043     [welcomehello, welcome, wikipedia, appreciate,...\n",
              "137101    [removed, several, event, added, mostly, conne...\n",
              "151583    [sigh, people, always, forget, doesnt, matter,...\n",
              "133189    [agree, summaryin, view, textbook, example, fo...\n",
              "23427     [sir, corporation, least, wikipediaarticle, le...\n",
              "Name: comment_text, dtype: object"
            ]
          },
          "metadata": {
            "tags": []
          },
          "execution_count": 32
        }
      ]
    },
    {
      "cell_type": "code",
      "metadata": {
        "colab": {
          "base_uri": "https://localhost:8080/"
        },
        "id": "pyUKBeZmYUXE",
        "outputId": "81f8536f-e521-42c3-8290-719907b8411a"
      },
      "source": [
        "train_data['comment_text'].head()"
      ],
      "execution_count": null,
      "outputs": [
        {
          "output_type": "execute_result",
          "data": {
            "text/plain": [
              "0    [explanationwhy, edits, made, username, hardco...\n",
              "1    [daww, match, background, colour, im, seemingl...\n",
              "2    [hey, man, im, really, trying, edit, war, guy,...\n",
              "3    [morei, cant, make, real, suggestion, improvem...\n",
              "4           [sir, hero, chance, remember, page, thats]\n",
              "Name: comment_text, dtype: object"
            ]
          },
          "metadata": {
            "tags": []
          },
          "execution_count": 33
        }
      ]
    },
    {
      "cell_type": "code",
      "metadata": {
        "execution": {
          "iopub.status.busy": "2021-06-13T22:24:15.487571Z",
          "iopub.execute_input": "2021-06-13T22:24:15.487895Z",
          "iopub.status.idle": "2021-06-13T22:24:15.621536Z",
          "shell.execute_reply.started": "2021-06-13T22:24:15.487865Z",
          "shell.execute_reply": "2021-06-13T22:24:15.62073Z"
        },
        "trusted": true,
        "colab": {
          "base_uri": "https://localhost:8080/"
        },
        "id": "Sqzwp8UAlnTG",
        "outputId": "4943a8ab-0660-4220-e445-028498d5a1fe"
      },
      "source": [
        "train_data[\"commentsLength\"]= train_data[\"comment_text\"].str.len()\n",
        "train_data.head()\n",
        "\n",
        "df = train_data.info()\n",
        "\n",
        "\n",
        "\n"
      ],
      "execution_count": null,
      "outputs": [
        {
          "output_type": "stream",
          "text": [
            "<class 'pandas.core.frame.DataFrame'>\n",
            "RangeIndex: 159571 entries, 0 to 159570\n",
            "Data columns (total 13 columns):\n",
            " #   Column              Non-Null Count   Dtype  \n",
            "---  ------              --------------   -----  \n",
            " 0   comment_text        159571 non-null  object \n",
            " 1   toxic               159571 non-null  int64  \n",
            " 2   severe_toxic        159571 non-null  int64  \n",
            " 3   obscene             159571 non-null  int64  \n",
            " 4   threat              159571 non-null  int64  \n",
            " 5   insult              159571 non-null  int64  \n",
            " 6   identity_hate       159571 non-null  int64  \n",
            " 7   commentsLength      159571 non-null  int64  \n",
            " 8   sentiment           159571 non-null  float64\n",
            " 9   comment_str         159571 non-null  object \n",
            " 10  comment_len         159571 non-null  int64  \n",
            " 11  word_count          159571 non-null  int64  \n",
            " 12  sentiment_category  159571 non-null  object \n",
            "dtypes: float64(1), int64(9), object(3)\n",
            "memory usage: 15.8+ MB\n"
          ],
          "name": "stdout"
        }
      ]
    },
    {
      "cell_type": "code",
      "metadata": {
        "execution": {
          "iopub.status.busy": "2021-06-13T22:24:17.081564Z",
          "iopub.execute_input": "2021-06-13T22:24:17.081899Z",
          "iopub.status.idle": "2021-06-13T22:24:17.088265Z",
          "shell.execute_reply.started": "2021-06-13T22:24:17.08187Z",
          "shell.execute_reply": "2021-06-13T22:24:17.087457Z"
        },
        "trusted": true,
        "colab": {
          "base_uri": "https://localhost:8080/"
        },
        "id": "yqnu10ujlnTG",
        "outputId": "e2471ec4-f936-4d93-fad2-0759953d513e"
      },
      "source": [
        "train_data['commentsLength']"
      ],
      "execution_count": null,
      "outputs": [
        {
          "output_type": "execute_result",
          "data": {
            "text/plain": [
              "0         27\n",
              "1         14\n",
              "2         22\n",
              "3         50\n",
              "4          6\n",
              "          ..\n",
              "159566    24\n",
              "159567     7\n",
              "159568     9\n",
              "159569     9\n",
              "159570    19\n",
              "Name: commentsLength, Length: 159571, dtype: int64"
            ]
          },
          "metadata": {
            "tags": []
          },
          "execution_count": 39
        }
      ]
    },
    {
      "cell_type": "markdown",
      "metadata": {
        "id": "gECs2WKmiEvw"
      },
      "source": [
        "# Transformation of Data "
      ]
    },
    {
      "cell_type": "markdown",
      "metadata": {
        "id": "rwLNJeeilnTH"
      },
      "source": [
        "## Caluation of Number of Comments, Len of Comments and Sentiment "
      ]
    },
    {
      "cell_type": "code",
      "metadata": {
        "execution": {
          "iopub.status.busy": "2021-06-13T22:24:18.594726Z",
          "iopub.execute_input": "2021-06-13T22:24:18.595066Z",
          "iopub.status.idle": "2021-06-13T22:26:46.797647Z",
          "shell.execute_reply.started": "2021-06-13T22:24:18.595032Z",
          "shell.execute_reply": "2021-06-13T22:26:46.796789Z"
        },
        "trusted": true,
        "colab": {
          "base_uri": "https://localhost:8080/",
          "height": 419
        },
        "id": "5PUGtrfBlnTH",
        "outputId": "65554c4c-e4bd-4034-8d7b-72a5fd533b81"
      },
      "source": [
        "from textblob import TextBlob\n",
        "train_data['sentiment'] = train_data['comment_text'].map(lambda x: TextBlob(str(x)).sentiment.polarity)\n",
        "train_data['comment_str'] = train_data['comment_text'].apply(lambda x: ','.join(map(str, x)).replace(',',' '))\n",
        "test_data['comment_str'] = test_data['comment_text'].apply(lambda x: ','.join(map(str, x)).replace(',',' '))\n",
        "train_data['comment_str'][0]\n",
        "train_data['comment_len'] = train_data['comment_str'].astype(str).apply(len)\n",
        "train_data['comment_str'][0]\n",
        "train_data['word_count'] = train_data['comment_str'].apply(lambda x: len(str(x).split()))\n",
        "train_data"
      ],
      "execution_count": null,
      "outputs": [
        {
          "output_type": "execute_result",
          "data": {
            "text/html": [
              "<div>\n",
              "<style scoped>\n",
              "    .dataframe tbody tr th:only-of-type {\n",
              "        vertical-align: middle;\n",
              "    }\n",
              "\n",
              "    .dataframe tbody tr th {\n",
              "        vertical-align: top;\n",
              "    }\n",
              "\n",
              "    .dataframe thead th {\n",
              "        text-align: right;\n",
              "    }\n",
              "</style>\n",
              "<table border=\"1\" class=\"dataframe\">\n",
              "  <thead>\n",
              "    <tr style=\"text-align: right;\">\n",
              "      <th></th>\n",
              "      <th>comment_text</th>\n",
              "      <th>toxic</th>\n",
              "      <th>severe_toxic</th>\n",
              "      <th>obscene</th>\n",
              "      <th>threat</th>\n",
              "      <th>insult</th>\n",
              "      <th>identity_hate</th>\n",
              "      <th>commentsLength</th>\n",
              "      <th>sentiment</th>\n",
              "      <th>comment_str</th>\n",
              "      <th>comment_len</th>\n",
              "      <th>word_count</th>\n",
              "    </tr>\n",
              "  </thead>\n",
              "  <tbody>\n",
              "    <tr>\n",
              "      <th>0</th>\n",
              "      <td>[explanationwhy, edits, made, username, hardco...</td>\n",
              "      <td>0</td>\n",
              "      <td>0</td>\n",
              "      <td>0</td>\n",
              "      <td>0</td>\n",
              "      <td>0</td>\n",
              "      <td>0</td>\n",
              "      <td>27</td>\n",
              "      <td>0.136364</td>\n",
              "      <td>explanationwhy edits made username hardcore me...</td>\n",
              "      <td>187</td>\n",
              "      <td>27</td>\n",
              "    </tr>\n",
              "    <tr>\n",
              "      <th>1</th>\n",
              "      <td>[daww, match, background, colour, im, seemingl...</td>\n",
              "      <td>0</td>\n",
              "      <td>0</td>\n",
              "      <td>0</td>\n",
              "      <td>0</td>\n",
              "      <td>0</td>\n",
              "      <td>0</td>\n",
              "      <td>14</td>\n",
              "      <td>0.200000</td>\n",
              "      <td>daww match background colour im seemingly stuc...</td>\n",
              "      <td>84</td>\n",
              "      <td>14</td>\n",
              "    </tr>\n",
              "    <tr>\n",
              "      <th>2</th>\n",
              "      <td>[hey, man, im, really, trying, edit, war, guy,...</td>\n",
              "      <td>0</td>\n",
              "      <td>0</td>\n",
              "      <td>0</td>\n",
              "      <td>0</td>\n",
              "      <td>0</td>\n",
              "      <td>0</td>\n",
              "      <td>22</td>\n",
              "      <td>0.150000</td>\n",
              "      <td>hey man im really trying edit war guy constant...</td>\n",
              "      <td>144</td>\n",
              "      <td>22</td>\n",
              "    </tr>\n",
              "    <tr>\n",
              "      <th>3</th>\n",
              "      <td>[morei, cant, make, real, suggestion, improvem...</td>\n",
              "      <td>0</td>\n",
              "      <td>0</td>\n",
              "      <td>0</td>\n",
              "      <td>0</td>\n",
              "      <td>0</td>\n",
              "      <td>0</td>\n",
              "      <td>50</td>\n",
              "      <td>0.183333</td>\n",
              "      <td>morei cant make real suggestion improvement wo...</td>\n",
              "      <td>381</td>\n",
              "      <td>50</td>\n",
              "    </tr>\n",
              "    <tr>\n",
              "      <th>4</th>\n",
              "      <td>[sir, hero, chance, remember, page, thats]</td>\n",
              "      <td>0</td>\n",
              "      <td>0</td>\n",
              "      <td>0</td>\n",
              "      <td>0</td>\n",
              "      <td>0</td>\n",
              "      <td>0</td>\n",
              "      <td>6</td>\n",
              "      <td>0.000000</td>\n",
              "      <td>sir hero chance remember page thats</td>\n",
              "      <td>35</td>\n",
              "      <td>6</td>\n",
              "    </tr>\n",
              "    <tr>\n",
              "      <th>...</th>\n",
              "      <td>...</td>\n",
              "      <td>...</td>\n",
              "      <td>...</td>\n",
              "      <td>...</td>\n",
              "      <td>...</td>\n",
              "      <td>...</td>\n",
              "      <td>...</td>\n",
              "      <td>...</td>\n",
              "      <td>...</td>\n",
              "      <td>...</td>\n",
              "      <td>...</td>\n",
              "      <td>...</td>\n",
              "    </tr>\n",
              "    <tr>\n",
              "      <th>159566</th>\n",
              "      <td>[second, time, asking, view, completely, contr...</td>\n",
              "      <td>0</td>\n",
              "      <td>0</td>\n",
              "      <td>0</td>\n",
              "      <td>0</td>\n",
              "      <td>0</td>\n",
              "      <td>0</td>\n",
              "      <td>24</td>\n",
              "      <td>0.220000</td>\n",
              "      <td>second time asking view completely contradicts...</td>\n",
              "      <td>183</td>\n",
              "      <td>24</td>\n",
              "    </tr>\n",
              "    <tr>\n",
              "      <th>159567</th>\n",
              "      <td>[ashamed, horrible, thing, put, talk, page, 12...</td>\n",
              "      <td>0</td>\n",
              "      <td>0</td>\n",
              "      <td>0</td>\n",
              "      <td>0</td>\n",
              "      <td>0</td>\n",
              "      <td>0</td>\n",
              "      <td>7</td>\n",
              "      <td>-1.000000</td>\n",
              "      <td>ashamed horrible thing put talk page 128611993</td>\n",
              "      <td>46</td>\n",
              "      <td>7</td>\n",
              "    </tr>\n",
              "    <tr>\n",
              "      <th>159568</th>\n",
              "      <td>[spitzer, umm, there, actual, article, prostit...</td>\n",
              "      <td>0</td>\n",
              "      <td>0</td>\n",
              "      <td>0</td>\n",
              "      <td>0</td>\n",
              "      <td>0</td>\n",
              "      <td>0</td>\n",
              "      <td>9</td>\n",
              "      <td>0.000000</td>\n",
              "      <td>spitzer umm there actual article prostitution ...</td>\n",
              "      <td>65</td>\n",
              "      <td>9</td>\n",
              "    </tr>\n",
              "    <tr>\n",
              "      <th>159569</th>\n",
              "      <td>[look, like, actually, put, speedy, first, ver...</td>\n",
              "      <td>0</td>\n",
              "      <td>0</td>\n",
              "      <td>0</td>\n",
              "      <td>0</td>\n",
              "      <td>0</td>\n",
              "      <td>0</td>\n",
              "      <td>9</td>\n",
              "      <td>0.125000</td>\n",
              "      <td>look like actually put speedy first version de...</td>\n",
              "      <td>56</td>\n",
              "      <td>9</td>\n",
              "    </tr>\n",
              "    <tr>\n",
              "      <th>159570</th>\n",
              "      <td>[really, dont, think, understand, came, idea, ...</td>\n",
              "      <td>0</td>\n",
              "      <td>0</td>\n",
              "      <td>0</td>\n",
              "      <td>0</td>\n",
              "      <td>0</td>\n",
              "      <td>0</td>\n",
              "      <td>19</td>\n",
              "      <td>-0.062857</td>\n",
              "      <td>really dont think understand came idea bad rig...</td>\n",
              "      <td>112</td>\n",
              "      <td>19</td>\n",
              "    </tr>\n",
              "  </tbody>\n",
              "</table>\n",
              "<p>159571 rows × 12 columns</p>\n",
              "</div>"
            ],
            "text/plain": [
              "                                             comment_text  ...  word_count\n",
              "0       [explanationwhy, edits, made, username, hardco...  ...          27\n",
              "1       [daww, match, background, colour, im, seemingl...  ...          14\n",
              "2       [hey, man, im, really, trying, edit, war, guy,...  ...          22\n",
              "3       [morei, cant, make, real, suggestion, improvem...  ...          50\n",
              "4              [sir, hero, chance, remember, page, thats]  ...           6\n",
              "...                                                   ...  ...         ...\n",
              "159566  [second, time, asking, view, completely, contr...  ...          24\n",
              "159567  [ashamed, horrible, thing, put, talk, page, 12...  ...           7\n",
              "159568  [spitzer, umm, there, actual, article, prostit...  ...           9\n",
              "159569  [look, like, actually, put, speedy, first, ver...  ...           9\n",
              "159570  [really, dont, think, understand, came, idea, ...  ...          19\n",
              "\n",
              "[159571 rows x 12 columns]"
            ]
          },
          "metadata": {
            "tags": []
          },
          "execution_count": 36
        }
      ]
    },
    {
      "cell_type": "markdown",
      "metadata": {
        "id": "FB2KfTugiMi1"
      },
      "source": [
        "Here, we are extracting few numbers from the text, to quantify the corpus. Finding the number of words in the sentence as commentsLength, characters of each comment as comment_len, sentiment of each sentence is calculated using Textblob where it gives the polarity of the sentence, where it is positive or negative. This value ranges from [-1,1], where -1 is extreme negavtive and 1 being a postive comment. "
      ]
    },
    {
      "cell_type": "code",
      "metadata": {
        "execution": {
          "iopub.status.busy": "2021-06-13T22:26:46.799146Z",
          "iopub.execute_input": "2021-06-13T22:26:46.799436Z",
          "iopub.status.idle": "2021-06-13T22:26:46.851517Z",
          "shell.execute_reply.started": "2021-06-13T22:26:46.7994Z",
          "shell.execute_reply": "2021-06-13T22:26:46.850745Z"
        },
        "trusted": true,
        "id": "Cc2RYckblnTI"
      },
      "source": [
        "train_data['sentiment_category'] = train_data['sentiment'].apply(lambda x: 'positive' if x>0 else 'negative')"
      ],
      "execution_count": null,
      "outputs": []
    },
    {
      "cell_type": "code",
      "metadata": {
        "execution": {
          "iopub.status.busy": "2021-06-12T16:30:52.033459Z",
          "iopub.execute_input": "2021-06-12T16:30:52.033801Z",
          "iopub.status.idle": "2021-06-12T16:30:52.071452Z",
          "shell.execute_reply.started": "2021-06-12T16:30:52.033771Z",
          "shell.execute_reply": "2021-06-12T16:30:52.070251Z"
        },
        "trusted": true,
        "colab": {
          "base_uri": "https://localhost:8080/"
        },
        "id": "uFjQZF2IlnTI",
        "outputId": "e0428dd9-9403-4eb5-a6a1-f6e8149d58cc"
      },
      "source": [
        "train_data['sentiment_category'].value_counts()"
      ],
      "execution_count": null,
      "outputs": [
        {
          "output_type": "execute_result",
          "data": {
            "text/plain": [
              "positive    80566\n",
              "negative    79005\n",
              "Name: sentiment_category, dtype: int64"
            ]
          },
          "metadata": {
            "tags": []
          },
          "execution_count": 40
        }
      ]
    },
    {
      "cell_type": "markdown",
      "metadata": {
        "id": "ZS9-0SGRktoQ"
      },
      "source": [
        "Categorizing the sentiments into postive and negative. Here, the comments are almost equally distributed as positive and negative. "
      ]
    },
    {
      "cell_type": "code",
      "metadata": {
        "execution": {
          "iopub.status.busy": "2021-06-12T17:33:07.364409Z",
          "iopub.execute_input": "2021-06-12T17:33:07.364744Z",
          "iopub.status.idle": "2021-06-12T17:33:07.395688Z",
          "shell.execute_reply.started": "2021-06-12T17:33:07.364713Z",
          "shell.execute_reply": "2021-06-12T17:33:07.394818Z"
        },
        "trusted": true,
        "colab": {
          "base_uri": "https://localhost:8080/",
          "height": 652
        },
        "id": "F1FhItY-lnTI",
        "outputId": "2bf939ba-e5dc-479b-c243-5837ee723a46"
      },
      "source": [
        "train_data"
      ],
      "execution_count": null,
      "outputs": [
        {
          "output_type": "execute_result",
          "data": {
            "text/html": [
              "<div>\n",
              "<style scoped>\n",
              "    .dataframe tbody tr th:only-of-type {\n",
              "        vertical-align: middle;\n",
              "    }\n",
              "\n",
              "    .dataframe tbody tr th {\n",
              "        vertical-align: top;\n",
              "    }\n",
              "\n",
              "    .dataframe thead th {\n",
              "        text-align: right;\n",
              "    }\n",
              "</style>\n",
              "<table border=\"1\" class=\"dataframe\">\n",
              "  <thead>\n",
              "    <tr style=\"text-align: right;\">\n",
              "      <th></th>\n",
              "      <th>comment_text</th>\n",
              "      <th>toxic</th>\n",
              "      <th>severe_toxic</th>\n",
              "      <th>obscene</th>\n",
              "      <th>threat</th>\n",
              "      <th>insult</th>\n",
              "      <th>identity_hate</th>\n",
              "      <th>commentsLength</th>\n",
              "      <th>sentiment</th>\n",
              "      <th>comment_str</th>\n",
              "      <th>comment_len</th>\n",
              "      <th>word_count</th>\n",
              "      <th>sentiment_category</th>\n",
              "    </tr>\n",
              "  </thead>\n",
              "  <tbody>\n",
              "    <tr>\n",
              "      <th>0</th>\n",
              "      <td>[explanationwhy, edits, made, username, hardco...</td>\n",
              "      <td>0</td>\n",
              "      <td>0</td>\n",
              "      <td>0</td>\n",
              "      <td>0</td>\n",
              "      <td>0</td>\n",
              "      <td>0</td>\n",
              "      <td>27</td>\n",
              "      <td>0.136364</td>\n",
              "      <td>explanationwhy edits made username hardcore me...</td>\n",
              "      <td>187</td>\n",
              "      <td>27</td>\n",
              "      <td>positive</td>\n",
              "    </tr>\n",
              "    <tr>\n",
              "      <th>1</th>\n",
              "      <td>[daww, match, background, colour, im, seemingl...</td>\n",
              "      <td>0</td>\n",
              "      <td>0</td>\n",
              "      <td>0</td>\n",
              "      <td>0</td>\n",
              "      <td>0</td>\n",
              "      <td>0</td>\n",
              "      <td>14</td>\n",
              "      <td>0.200000</td>\n",
              "      <td>daww match background colour im seemingly stuc...</td>\n",
              "      <td>84</td>\n",
              "      <td>14</td>\n",
              "      <td>positive</td>\n",
              "    </tr>\n",
              "    <tr>\n",
              "      <th>2</th>\n",
              "      <td>[hey, man, im, really, trying, edit, war, guy,...</td>\n",
              "      <td>0</td>\n",
              "      <td>0</td>\n",
              "      <td>0</td>\n",
              "      <td>0</td>\n",
              "      <td>0</td>\n",
              "      <td>0</td>\n",
              "      <td>22</td>\n",
              "      <td>0.150000</td>\n",
              "      <td>hey man im really trying edit war guy constant...</td>\n",
              "      <td>144</td>\n",
              "      <td>22</td>\n",
              "      <td>positive</td>\n",
              "    </tr>\n",
              "    <tr>\n",
              "      <th>3</th>\n",
              "      <td>[morei, cant, make, real, suggestion, improvem...</td>\n",
              "      <td>0</td>\n",
              "      <td>0</td>\n",
              "      <td>0</td>\n",
              "      <td>0</td>\n",
              "      <td>0</td>\n",
              "      <td>0</td>\n",
              "      <td>50</td>\n",
              "      <td>0.183333</td>\n",
              "      <td>morei cant make real suggestion improvement wo...</td>\n",
              "      <td>381</td>\n",
              "      <td>50</td>\n",
              "      <td>positive</td>\n",
              "    </tr>\n",
              "    <tr>\n",
              "      <th>4</th>\n",
              "      <td>[sir, hero, chance, remember, page, thats]</td>\n",
              "      <td>0</td>\n",
              "      <td>0</td>\n",
              "      <td>0</td>\n",
              "      <td>0</td>\n",
              "      <td>0</td>\n",
              "      <td>0</td>\n",
              "      <td>6</td>\n",
              "      <td>0.000000</td>\n",
              "      <td>sir hero chance remember page thats</td>\n",
              "      <td>35</td>\n",
              "      <td>6</td>\n",
              "      <td>negative</td>\n",
              "    </tr>\n",
              "    <tr>\n",
              "      <th>...</th>\n",
              "      <td>...</td>\n",
              "      <td>...</td>\n",
              "      <td>...</td>\n",
              "      <td>...</td>\n",
              "      <td>...</td>\n",
              "      <td>...</td>\n",
              "      <td>...</td>\n",
              "      <td>...</td>\n",
              "      <td>...</td>\n",
              "      <td>...</td>\n",
              "      <td>...</td>\n",
              "      <td>...</td>\n",
              "      <td>...</td>\n",
              "    </tr>\n",
              "    <tr>\n",
              "      <th>159566</th>\n",
              "      <td>[second, time, asking, view, completely, contr...</td>\n",
              "      <td>0</td>\n",
              "      <td>0</td>\n",
              "      <td>0</td>\n",
              "      <td>0</td>\n",
              "      <td>0</td>\n",
              "      <td>0</td>\n",
              "      <td>24</td>\n",
              "      <td>0.220000</td>\n",
              "      <td>second time asking view completely contradicts...</td>\n",
              "      <td>183</td>\n",
              "      <td>24</td>\n",
              "      <td>positive</td>\n",
              "    </tr>\n",
              "    <tr>\n",
              "      <th>159567</th>\n",
              "      <td>[ashamed, horrible, thing, put, talk, page, 12...</td>\n",
              "      <td>0</td>\n",
              "      <td>0</td>\n",
              "      <td>0</td>\n",
              "      <td>0</td>\n",
              "      <td>0</td>\n",
              "      <td>0</td>\n",
              "      <td>7</td>\n",
              "      <td>-1.000000</td>\n",
              "      <td>ashamed horrible thing put talk page 128611993</td>\n",
              "      <td>46</td>\n",
              "      <td>7</td>\n",
              "      <td>negative</td>\n",
              "    </tr>\n",
              "    <tr>\n",
              "      <th>159568</th>\n",
              "      <td>[spitzer, umm, there, actual, article, prostit...</td>\n",
              "      <td>0</td>\n",
              "      <td>0</td>\n",
              "      <td>0</td>\n",
              "      <td>0</td>\n",
              "      <td>0</td>\n",
              "      <td>0</td>\n",
              "      <td>9</td>\n",
              "      <td>0.000000</td>\n",
              "      <td>spitzer umm there actual article prostitution ...</td>\n",
              "      <td>65</td>\n",
              "      <td>9</td>\n",
              "      <td>negative</td>\n",
              "    </tr>\n",
              "    <tr>\n",
              "      <th>159569</th>\n",
              "      <td>[look, like, actually, put, speedy, first, ver...</td>\n",
              "      <td>0</td>\n",
              "      <td>0</td>\n",
              "      <td>0</td>\n",
              "      <td>0</td>\n",
              "      <td>0</td>\n",
              "      <td>0</td>\n",
              "      <td>9</td>\n",
              "      <td>0.125000</td>\n",
              "      <td>look like actually put speedy first version de...</td>\n",
              "      <td>56</td>\n",
              "      <td>9</td>\n",
              "      <td>positive</td>\n",
              "    </tr>\n",
              "    <tr>\n",
              "      <th>159570</th>\n",
              "      <td>[really, dont, think, understand, came, idea, ...</td>\n",
              "      <td>0</td>\n",
              "      <td>0</td>\n",
              "      <td>0</td>\n",
              "      <td>0</td>\n",
              "      <td>0</td>\n",
              "      <td>0</td>\n",
              "      <td>19</td>\n",
              "      <td>-0.062857</td>\n",
              "      <td>really dont think understand came idea bad rig...</td>\n",
              "      <td>112</td>\n",
              "      <td>19</td>\n",
              "      <td>negative</td>\n",
              "    </tr>\n",
              "  </tbody>\n",
              "</table>\n",
              "<p>159571 rows × 13 columns</p>\n",
              "</div>"
            ],
            "text/plain": [
              "                                             comment_text  ...  sentiment_category\n",
              "0       [explanationwhy, edits, made, username, hardco...  ...            positive\n",
              "1       [daww, match, background, colour, im, seemingl...  ...            positive\n",
              "2       [hey, man, im, really, trying, edit, war, guy,...  ...            positive\n",
              "3       [morei, cant, make, real, suggestion, improvem...  ...            positive\n",
              "4              [sir, hero, chance, remember, page, thats]  ...            negative\n",
              "...                                                   ...  ...                 ...\n",
              "159566  [second, time, asking, view, completely, contr...  ...            positive\n",
              "159567  [ashamed, horrible, thing, put, talk, page, 12...  ...            negative\n",
              "159568  [spitzer, umm, there, actual, article, prostit...  ...            negative\n",
              "159569  [look, like, actually, put, speedy, first, ver...  ...            positive\n",
              "159570  [really, dont, think, understand, came, idea, ...  ...            negative\n",
              "\n",
              "[159571 rows x 13 columns]"
            ]
          },
          "metadata": {
            "tags": []
          },
          "execution_count": 143
        }
      ]
    },
    {
      "cell_type": "markdown",
      "metadata": {
        "id": "GPAGooUQlnTJ"
      },
      "source": [
        "The table consists of Categorical variables, and data like number of words per comments and len of a comment. This data helps us to identify the word count and the related sentiment. The sentiment column ranges from [-1,1] "
      ]
    },
    {
      "cell_type": "markdown",
      "metadata": {
        "id": "XCRvoCCXlnTJ"
      },
      "source": [
        ""
      ]
    },
    {
      "cell_type": "code",
      "metadata": {
        "execution": {
          "iopub.status.busy": "2021-06-13T22:26:46.85328Z",
          "iopub.execute_input": "2021-06-13T22:26:46.853735Z",
          "iopub.status.idle": "2021-06-13T22:26:47.94015Z",
          "shell.execute_reply.started": "2021-06-13T22:26:46.853695Z",
          "shell.execute_reply": "2021-06-13T22:26:47.939248Z"
        },
        "trusted": true,
        "colab": {
          "base_uri": "https://localhost:8080/",
          "height": 601
        },
        "id": "NUfe8lBblnTJ",
        "outputId": "fafb363c-03e0-4125-b42b-1a415216047e"
      },
      "source": [
        "import seaborn as sns\n",
        "fig , axes = plt.subplots(2,3,figsize = (8,8), constrained_layout = True)\n",
        "sns.countplot(ax=axes[0,0],x=train_data['toxic'],data=train_data )\n",
        "sns.countplot(ax=axes[0,1],x=train_data['severe_toxic'],data=train_data)\n",
        "sns.countplot(ax=axes[0,2],x=train_data['obscene'],data=train_data)\n",
        "sns.countplot(ax = axes[1,0],x=train_data['threat'],data=train_data)\n",
        "sns.countplot(ax=axes[1,1],x=train_data['insult'],data=train_data)\n",
        "sns.countplot(ax=axes[1,2],x=train_data['identity_hate'],data=train_data)\n",
        "plt.suptitle('Count Of Each Category')\n",
        "plt.show()"
      ],
      "execution_count": null,
      "outputs": [
        {
          "output_type": "display_data",
          "data": {
            "image/png": "[encoded data removed]",
            "text/plain": [
              "<Figure size 576x576 with 6 Axes>"
            ]
          },
          "metadata": {
            "tags": [],
            "needs_background": "light"
          }
        }
      ]
    },
    {
      "cell_type": "markdown",
      "metadata": {
        "id": "yCrgn84lnTdH"
      },
      "source": [
        "The above visualization, illustrates that most of the comments are 0 ie they are not labeled in any of the categories. In the overall, data only few comments are being categorised into each labels."
      ]
    },
    {
      "cell_type": "code",
      "metadata": {
        "execution": {
          "iopub.status.busy": "2021-06-13T22:26:47.944048Z",
          "iopub.execute_input": "2021-06-13T22:26:47.945966Z",
          "iopub.status.idle": "2021-06-13T22:26:48.230871Z",
          "shell.execute_reply.started": "2021-06-13T22:26:47.945916Z",
          "shell.execute_reply": "2021-06-13T22:26:48.230089Z"
        },
        "trusted": true,
        "colab": {
          "base_uri": "https://localhost:8080/",
          "height": 405
        },
        "id": "8LcXcGCMlnTJ",
        "outputId": "1d1e9270-c22c-4fd6-da3d-6681e0318add"
      },
      "source": [
        "# Checking the count of the various types of words\n",
        "import seaborn as sns\n",
        "cols = [\"toxic\", \"severe_toxic\", \"obscene\", \"threat\", \"insult\", \"identity_hate\"]\n",
        "targets = train_data[cols].values\n",
        "\n",
        "train_df = train_data['comment_text']\n",
        "test_df = test_data['comment_text']\n",
        "\n",
        "\n",
        "val_counts = train_data[cols].sum()\n",
        "\n",
        "plt.figure(figsize=(8,5))\n",
        "ax = sns.barplot(val_counts.index, val_counts.values, alpha=0.8)\n",
        "\n",
        "plt.title(\"Comments per Classes\")\n",
        "plt.xlabel(\"Various Comments Type\")\n",
        "plt.ylabel(\"Counts of the Comments\")\n",
        "\n",
        "rects = ax.patches\n",
        "labels = val_counts.values\n",
        "for rect, label in zip(rects, labels):\n",
        "    height = rect.get_height()\n",
        "    ax.text(rect.get_x() + rect.get_width()/2, height+5, label, ha=\"center\", va=\"bottom\")\n",
        "\n",
        "\n",
        "plt.show()"
      ],
      "execution_count": null,
      "outputs": [
        {
          "output_type": "stream",
          "text": [
            "/usr/local/lib/python3.7/dist-packages/seaborn/_decorators.py:43: FutureWarning: Pass the following variables as keyword args: x, y. From version 0.12, the only valid positional argument will be `data`, and passing other arguments without an explicit keyword will result in an error or misinterpretation.\n",
            "  FutureWarning\n"
          ],
          "name": "stderr"
        },
        {
          "output_type": "display_data",
          "data": {
            "image/png": "[encoded data removed]",
            "text/plain": [
              "<Figure size 576x360 with 1 Axes>"
            ]
          },
          "metadata": {
            "tags": [],
            "needs_background": "light"
          }
        }
      ]
    },
    {
      "cell_type": "markdown",
      "metadata": {
        "id": "zL7qfZDVEOSc"
      },
      "source": [
        "The visuliazation illustrates that, the dataset is imbalanced. Categories like threat, severe_toxic and identity hate are quite low comments and toxic, obsence, and insult have higher records of comments "
      ]
    },
    {
      "cell_type": "code",
      "metadata": {
        "execution": {
          "iopub.status.busy": "2021-06-13T22:26:48.232169Z",
          "iopub.execute_input": "2021-06-13T22:26:48.232493Z",
          "iopub.status.idle": "2021-06-13T22:26:48.696588Z",
          "shell.execute_reply.started": "2021-06-13T22:26:48.232458Z",
          "shell.execute_reply": "2021-06-13T22:26:48.695818Z"
        },
        "trusted": true,
        "colab": {
          "base_uri": "https://localhost:8080/",
          "height": 325
        },
        "id": "AkOLA4gFlnTK",
        "outputId": "97eb0fdc-a008-48d5-9b38-9a1accf49329"
      },
      "source": [
        "import seaborn as sns\n",
        "target = train_data.drop(['comment_str','comment_len','commentsLength','word_count'],axis=1)\n",
        "corrmat = target.corr()\n",
        "sns.heatmap(corrmat,annot = True)\n",
        "plt.show()"
      ],
      "execution_count": null,
      "outputs": [
        {
          "output_type": "display_data",
          "data": {
            "image/png": "[encoded data removed]",
            "text/plain": [
              "<Figure size 432x288 with 2 Axes>"
            ]
          },
          "metadata": {
            "tags": [],
            "needs_background": "light"
          }
        }
      ]
    },
    {
      "cell_type": "markdown",
      "metadata": {
        "id": "QuYl3DRglfLK"
      },
      "source": [
        "In the correlation, heatmap we can observe that each comment is linearly correlated with each other. For example, if we take toxic and insult is 0.65, then toxic and insult are 65% proportional to each other, if toxic is increased the insult will increase by 65%. "
      ]
    },
    {
      "cell_type": "code",
      "metadata": {
        "execution": {
          "iopub.status.busy": "2021-06-13T22:26:48.697834Z",
          "iopub.execute_input": "2021-06-13T22:26:48.698189Z",
          "iopub.status.idle": "2021-06-13T22:26:48.702644Z",
          "shell.execute_reply.started": "2021-06-13T22:26:48.698152Z",
          "shell.execute_reply": "2021-06-13T22:26:48.701618Z"
        },
        "trusted": true,
        "id": "196xAXJflnTK"
      },
      "source": [
        "train_str = train_data['comment_str']\n",
        "test_str = test_data['comment_str']"
      ],
      "execution_count": null,
      "outputs": []
    },
    {
      "cell_type": "code",
      "metadata": {
        "execution": {
          "iopub.status.busy": "2021-06-13T22:26:48.703867Z",
          "iopub.execute_input": "2021-06-13T22:26:48.704279Z",
          "iopub.status.idle": "2021-06-13T22:26:48.716395Z",
          "shell.execute_reply.started": "2021-06-13T22:26:48.70424Z",
          "shell.execute_reply": "2021-06-13T22:26:48.715468Z"
        },
        "trusted": true,
        "colab": {
          "base_uri": "https://localhost:8080/"
        },
        "id": "ZlWUpaCelnTK",
        "outputId": "bb3ed1f7-1b23-4638-c83d-386f3eb2da06"
      },
      "source": [
        "train_str"
      ],
      "execution_count": null,
      "outputs": [
        {
          "output_type": "execute_result",
          "data": {
            "text/plain": [
              "0         explanationwhy edits made username hardcore me...\n",
              "1         daww match background colour im seemingly stuc...\n",
              "2         hey man im really trying edit war guy constant...\n",
              "3         morei cant make real suggestion improvement wo...\n",
              "4                       sir hero chance remember page thats\n",
              "                                ...                        \n",
              "159566    second time asking view completely contradicts...\n",
              "159567       ashamed horrible thing put talk page 128611993\n",
              "159568    spitzer umm there actual article prostitution ...\n",
              "159569    look like actually put speedy first version de...\n",
              "159570    really dont think understand came idea bad rig...\n",
              "Name: comment_str, Length: 159571, dtype: object"
            ]
          },
          "metadata": {
            "tags": []
          },
          "execution_count": 29
        }
      ]
    },
    {
      "cell_type": "markdown",
      "metadata": {
        "id": "3qKD2cyDrDpw"
      },
      "source": [
        "## Data Modelling "
      ]
    },
    {
      "cell_type": "markdown",
      "metadata": {
        "id": "V-nNMR5arJAv"
      },
      "source": [
        "The given data is a multi-classification problem, and it is large dataset with (159570, 8). In order to obtain robust, accurate results to a large dataset, I have choosen XGboost model. XGboost model has in built functionality to regularise the parameters, uses K-fold technique on the data to exhaust all possible combinations and be robust to overfitting of the model. It also uses parallelization technique, ie. two different parameter are tuned separately even though the process is sequential."
      ]
    },
    {
      "cell_type": "code",
      "metadata": {
        "execution": {
          "iopub.status.busy": "2021-06-13T22:26:48.719115Z",
          "iopub.execute_input": "2021-06-13T22:26:48.719613Z",
          "iopub.status.idle": "2021-06-13T22:27:20.621046Z",
          "shell.execute_reply.started": "2021-06-13T22:26:48.719577Z",
          "shell.execute_reply": "2021-06-13T22:27:20.620195Z"
        },
        "trusted": true,
        "id": "1k6rPmFIlnTK"
      },
      "source": [
        "from sklearn.feature_extraction.text import TfidfVectorizer\n",
        "\n",
        "vectorizer            =  TfidfVectorizer()\n",
        "train_tfidf_feature = vectorizer.fit_transform(train_str)\n",
        "test_tfidf_feature = vectorizer.transform(test_str)\n",
        "\n",
        "train_df = pd.DataFrame(train_tfidf_feature)\n",
        "test_df = pd.DataFrame(test_tfidf_feature)"
      ],
      "execution_count": null,
      "outputs": []
    },
    {
      "cell_type": "code",
      "metadata": {
        "execution": {
          "iopub.status.busy": "2021-06-13T22:27:20.622429Z",
          "iopub.execute_input": "2021-06-13T22:27:20.622754Z",
          "iopub.status.idle": "2021-06-13T22:27:20.640604Z",
          "shell.execute_reply.started": "2021-06-13T22:27:20.622718Z",
          "shell.execute_reply": "2021-06-13T22:27:20.639885Z"
        },
        "trusted": true,
        "colab": {
          "base_uri": "https://localhost:8080/",
          "height": 417
        },
        "id": "FMGusYholnTK",
        "outputId": "eb18a440-01b7-4ea5-8991-3b8acc95f707"
      },
      "source": [
        "train_df"
      ],
      "execution_count": null,
      "outputs": [
        {
          "output_type": "execute_result",
          "data": {
            "text/html": [
              "<div>\n",
              "<style scoped>\n",
              "    .dataframe tbody tr th:only-of-type {\n",
              "        vertical-align: middle;\n",
              "    }\n",
              "\n",
              "    .dataframe tbody tr th {\n",
              "        vertical-align: top;\n",
              "    }\n",
              "\n",
              "    .dataframe thead th {\n",
              "        text-align: right;\n",
              "    }\n",
              "</style>\n",
              "<table border=\"1\" class=\"dataframe\">\n",
              "  <thead>\n",
              "    <tr style=\"text-align: right;\">\n",
              "      <th></th>\n",
              "      <th>0</th>\n",
              "    </tr>\n",
              "  </thead>\n",
              "  <tbody>\n",
              "    <tr>\n",
              "      <th>0</th>\n",
              "      <td>(0, 177194)\\t0.34053217869040103\\n  (0, 2110...</td>\n",
              "    </tr>\n",
              "    <tr>\n",
              "      <th>1</th>\n",
              "      <td>(0, 264553)\\t0.17654439389634835\\n  (0, 8160...</td>\n",
              "    </tr>\n",
              "    <tr>\n",
              "      <th>2</th>\n",
              "      <td>(0, 131555)\\t0.23164764694148235\\n  (0, 2017...</td>\n",
              "    </tr>\n",
              "    <tr>\n",
              "      <th>3</th>\n",
              "      <td>(0, 275429)\\t0.2645663827119061\\n  (0, 86092...</td>\n",
              "    </tr>\n",
              "    <tr>\n",
              "      <th>4</th>\n",
              "      <td>(0, 247784)\\t0.307881118430025\\n  (0, 208759...</td>\n",
              "    </tr>\n",
              "    <tr>\n",
              "      <th>...</th>\n",
              "      <td>...</td>\n",
              "    </tr>\n",
              "    <tr>\n",
              "      <th>159566</th>\n",
              "      <td>(0, 65063)\\t0.2984505195904996\\n  (0, 67485)...</td>\n",
              "    </tr>\n",
              "    <tr>\n",
              "      <th>159567</th>\n",
              "      <td>(0, 2601)\\t0.6725800481647614\\n  (0, 33407)\\...</td>\n",
              "    </tr>\n",
              "    <tr>\n",
              "      <th>159568</th>\n",
              "      <td>(0, 232166)\\t0.4646367911394492\\n  (0, 69238...</td>\n",
              "    </tr>\n",
              "    <tr>\n",
              "      <th>159569</th>\n",
              "      <td>(0, 201604)\\t0.3131167847443574\\n  (0, 20180...</td>\n",
              "    </tr>\n",
              "    <tr>\n",
              "      <th>159570</th>\n",
              "      <td>(0, 115460)\\t0.25836874571615615\\n  (0, 2118...</td>\n",
              "    </tr>\n",
              "  </tbody>\n",
              "</table>\n",
              "<p>159571 rows × 1 columns</p>\n",
              "</div>"
            ],
            "text/plain": [
              "                                                        0\n",
              "0         (0, 177194)\\t0.34053217869040103\\n  (0, 2110...\n",
              "1         (0, 264553)\\t0.17654439389634835\\n  (0, 8160...\n",
              "2         (0, 131555)\\t0.23164764694148235\\n  (0, 2017...\n",
              "3         (0, 275429)\\t0.2645663827119061\\n  (0, 86092...\n",
              "4         (0, 247784)\\t0.307881118430025\\n  (0, 208759...\n",
              "...                                                   ...\n",
              "159566    (0, 65063)\\t0.2984505195904996\\n  (0, 67485)...\n",
              "159567    (0, 2601)\\t0.6725800481647614\\n  (0, 33407)\\...\n",
              "159568    (0, 232166)\\t0.4646367911394492\\n  (0, 69238...\n",
              "159569    (0, 201604)\\t0.3131167847443574\\n  (0, 20180...\n",
              "159570    (0, 115460)\\t0.25836874571615615\\n  (0, 2118...\n",
              "\n",
              "[159571 rows x 1 columns]"
            ]
          },
          "metadata": {
            "tags": []
          },
          "execution_count": 27
        }
      ]
    },
    {
      "cell_type": "code",
      "metadata": {
        "execution": {
          "iopub.status.busy": "2021-06-13T22:27:20.641897Z",
          "iopub.execute_input": "2021-06-13T22:27:20.642306Z",
          "iopub.status.idle": "2021-06-13T22:27:20.648669Z",
          "shell.execute_reply.started": "2021-06-13T22:27:20.64227Z",
          "shell.execute_reply": "2021-06-13T22:27:20.647966Z"
        },
        "trusted": true,
        "id": "s0tRA64KlnTL"
      },
      "source": [
        "col_target = ['toxic','severe_toxic','obscene','threat','insult','identity_hate']"
      ],
      "execution_count": null,
      "outputs": []
    },
    {
      "cell_type": "code",
      "metadata": {
        "execution": {
          "iopub.status.busy": "2021-06-13T22:27:20.64964Z",
          "iopub.execute_input": "2021-06-13T22:27:20.649983Z",
          "iopub.status.idle": "2021-06-13T22:27:20.734842Z",
          "shell.execute_reply.started": "2021-06-13T22:27:20.64995Z",
          "shell.execute_reply": "2021-06-13T22:27:20.733944Z"
        },
        "trusted": true,
        "id": "3hxPZDOHlnTL"
      },
      "source": [
        "from xgboost import XGBClassifier\n",
        "from sklearn.metrics import accuracy_score\n",
        "from sklearn.metrics import precision_score\n",
        "from sklearn.metrics import recall_score\n",
        "from sklearn.metrics import f1_score\n",
        "# from sklearn.metrics import roc_auc_score\n",
        "clf = XGBClassifier(use_label_encoder =False,eval_metric='logloss')"
      ],
      "execution_count": null,
      "outputs": []
    },
    {
      "cell_type": "code",
      "metadata": {
        "colab": {
          "base_uri": "https://localhost:8080/",
          "height": 417
        },
        "id": "9zKP539xs1vA",
        "outputId": "696d389e-315e-4cbd-de4a-fc9131e515ea"
      },
      "source": [
        "train_labels = train_data.drop(['comment_text','commentsLength','sentiment','comment_str','comment_len','word_count','sentiment_category'],axis =1)\n",
        "train_labels"
      ],
      "execution_count": null,
      "outputs": [
        {
          "output_type": "execute_result",
          "data": {
            "text/html": [
              "<div>\n",
              "<style scoped>\n",
              "    .dataframe tbody tr th:only-of-type {\n",
              "        vertical-align: middle;\n",
              "    }\n",
              "\n",
              "    .dataframe tbody tr th {\n",
              "        vertical-align: top;\n",
              "    }\n",
              "\n",
              "    .dataframe thead th {\n",
              "        text-align: right;\n",
              "    }\n",
              "</style>\n",
              "<table border=\"1\" class=\"dataframe\">\n",
              "  <thead>\n",
              "    <tr style=\"text-align: right;\">\n",
              "      <th></th>\n",
              "      <th>toxic</th>\n",
              "      <th>severe_toxic</th>\n",
              "      <th>obscene</th>\n",
              "      <th>threat</th>\n",
              "      <th>insult</th>\n",
              "      <th>identity_hate</th>\n",
              "    </tr>\n",
              "  </thead>\n",
              "  <tbody>\n",
              "    <tr>\n",
              "      <th>0</th>\n",
              "      <td>0</td>\n",
              "      <td>0</td>\n",
              "      <td>0</td>\n",
              "      <td>0</td>\n",
              "      <td>0</td>\n",
              "      <td>0</td>\n",
              "    </tr>\n",
              "    <tr>\n",
              "      <th>1</th>\n",
              "      <td>0</td>\n",
              "      <td>0</td>\n",
              "      <td>0</td>\n",
              "      <td>0</td>\n",
              "      <td>0</td>\n",
              "      <td>0</td>\n",
              "    </tr>\n",
              "    <tr>\n",
              "      <th>2</th>\n",
              "      <td>0</td>\n",
              "      <td>0</td>\n",
              "      <td>0</td>\n",
              "      <td>0</td>\n",
              "      <td>0</td>\n",
              "      <td>0</td>\n",
              "    </tr>\n",
              "    <tr>\n",
              "      <th>3</th>\n",
              "      <td>0</td>\n",
              "      <td>0</td>\n",
              "      <td>0</td>\n",
              "      <td>0</td>\n",
              "      <td>0</td>\n",
              "      <td>0</td>\n",
              "    </tr>\n",
              "    <tr>\n",
              "      <th>4</th>\n",
              "      <td>0</td>\n",
              "      <td>0</td>\n",
              "      <td>0</td>\n",
              "      <td>0</td>\n",
              "      <td>0</td>\n",
              "      <td>0</td>\n",
              "    </tr>\n",
              "    <tr>\n",
              "      <th>...</th>\n",
              "      <td>...</td>\n",
              "      <td>...</td>\n",
              "      <td>...</td>\n",
              "      <td>...</td>\n",
              "      <td>...</td>\n",
              "      <td>...</td>\n",
              "    </tr>\n",
              "    <tr>\n",
              "      <th>159566</th>\n",
              "      <td>0</td>\n",
              "      <td>0</td>\n",
              "      <td>0</td>\n",
              "      <td>0</td>\n",
              "      <td>0</td>\n",
              "      <td>0</td>\n",
              "    </tr>\n",
              "    <tr>\n",
              "      <th>159567</th>\n",
              "      <td>0</td>\n",
              "      <td>0</td>\n",
              "      <td>0</td>\n",
              "      <td>0</td>\n",
              "      <td>0</td>\n",
              "      <td>0</td>\n",
              "    </tr>\n",
              "    <tr>\n",
              "      <th>159568</th>\n",
              "      <td>0</td>\n",
              "      <td>0</td>\n",
              "      <td>0</td>\n",
              "      <td>0</td>\n",
              "      <td>0</td>\n",
              "      <td>0</td>\n",
              "    </tr>\n",
              "    <tr>\n",
              "      <th>159569</th>\n",
              "      <td>0</td>\n",
              "      <td>0</td>\n",
              "      <td>0</td>\n",
              "      <td>0</td>\n",
              "      <td>0</td>\n",
              "      <td>0</td>\n",
              "    </tr>\n",
              "    <tr>\n",
              "      <th>159570</th>\n",
              "      <td>0</td>\n",
              "      <td>0</td>\n",
              "      <td>0</td>\n",
              "      <td>0</td>\n",
              "      <td>0</td>\n",
              "      <td>0</td>\n",
              "    </tr>\n",
              "  </tbody>\n",
              "</table>\n",
              "<p>159571 rows × 6 columns</p>\n",
              "</div>"
            ],
            "text/plain": [
              "        toxic  severe_toxic  obscene  threat  insult  identity_hate\n",
              "0           0             0        0       0       0              0\n",
              "1           0             0        0       0       0              0\n",
              "2           0             0        0       0       0              0\n",
              "3           0             0        0       0       0              0\n",
              "4           0             0        0       0       0              0\n",
              "...       ...           ...      ...     ...     ...            ...\n",
              "159566      0             0        0       0       0              0\n",
              "159567      0             0        0       0       0              0\n",
              "159568      0             0        0       0       0              0\n",
              "159569      0             0        0       0       0              0\n",
              "159570      0             0        0       0       0              0\n",
              "\n",
              "[159571 rows x 6 columns]"
            ]
          },
          "metadata": {
            "tags": []
          },
          "execution_count": 159
        }
      ]
    },
    {
      "cell_type": "code",
      "metadata": {
        "execution": {
          "iopub.status.busy": "2021-06-12T18:27:29.269816Z",
          "iopub.execute_input": "2021-06-12T18:27:29.270218Z",
          "iopub.status.idle": "2021-06-12T18:39:06.926593Z",
          "shell.execute_reply.started": "2021-06-12T18:27:29.270179Z",
          "shell.execute_reply": "2021-06-12T18:39:06.92575Z"
        },
        "trusted": true,
        "id": "8jF0pXZXlnTL",
        "colab": {
          "base_uri": "https://localhost:8080/"
        },
        "outputId": "c8d94432-bacb-4ad0-8a69-26024d42c95f"
      },
      "source": [
        "from sklearn.metrics import classification_report\n",
        "from sklearn.datasets import make_classification\n",
        "from sklearn.metrics import log_loss\n",
        "\n",
        "submission_binary1 = pd.read_csv('sample_submission.csv')\n",
        "# target_names =['toxic','severe_toxic','obscene','threat','insult']\n",
        "# j= [1,2,3,4,5,6]\n",
        "# for i in col_target:\n",
        "#     y = train_labels[i]\n",
        "#     clf.fit(train_tfidf_feature,y)\n",
        "#     y_pred_X = clf.predict(train_tfidf_feature)\n",
        "#     print('Train probability is {}'.format(accuracy_score(y,y_pred_X)))\n",
        "#     print(classification_report(y , y_pred_X, labels= target_names))\n",
        "#     #avg_logloss = log_los(y, y_pred_X)\n",
        "#     #print(avg_logloss)\n",
        "# #     precision = precision_score(y, y_pred_X)\n",
        "# #     print('Precision: %.3f' % precision)\n",
        "# #     recall = recall_score (y_pred_X)\n",
        "# #     print('Recall: %.3f' % recall)\n",
        "# #     score = f1_score(y_pred_X)\n",
        "# #     print('F-Measure: %.3f' % score)\n",
        "#     test_y = clf.predict_proba(test_tfidf_feature)[:1]\n",
        "#     submission_binary1[i] = test_y\n",
        "for i in col_target:\n",
        "  y = train_labels[i]\n",
        "  clf.fit(train_tfidf_feature,y)\n",
        "  y_pred_X = clf.predict(train_tfidf_feature)\n",
        "  print('Train probability is {}'.format(accuracy_score(y,y_pred_X)))\n",
        "  print(classification_report(y , y_pred_X))\n",
        "  test_y = clf.predict_proba(test_tfidf_feature)[:,1]\n",
        "  print(\"Testing Probability is {}\".format(test_y))\n",
        "  submission_binary1[i] = test_y"
      ],
      "execution_count": null,
      "outputs": [
        {
          "output_type": "stream",
          "text": [
            "Train probability is 0.9402209674690263\n",
            "              precision    recall  f1-score   support\n",
            "\n",
            "           0       0.94      1.00      0.97    144277\n",
            "           1       0.96      0.39      0.56     15294\n",
            "\n",
            "    accuracy                           0.94    159571\n",
            "   macro avg       0.95      0.70      0.76    159571\n",
            "weighted avg       0.94      0.94      0.93    159571\n",
            "\n",
            "Testing Probability is [0.97962415 0.07284041 0.05569197 ... 0.06956717 0.07284041 0.5888231 ]\n",
            "Train probability is 0.9911136735371715\n",
            "              precision    recall  f1-score   support\n",
            "\n",
            "           0       0.99      1.00      1.00    157976\n",
            "           1       0.76      0.16      0.27      1595\n",
            "\n",
            "    accuracy                           0.99    159571\n",
            "   macro avg       0.88      0.58      0.63    159571\n",
            "weighted avg       0.99      0.99      0.99    159571\n",
            "\n",
            "Testing Probability is [0.07454663 0.00505037 0.00384886 ... 0.00431286 0.00505037 0.00472714]\n",
            "Train probability is 0.9738235644321337\n",
            "              precision    recall  f1-score   support\n",
            "\n",
            "           0       0.97      1.00      0.99    151122\n",
            "           1       0.94      0.54      0.69      8449\n",
            "\n",
            "    accuracy                           0.97    159571\n",
            "   macro avg       0.96      0.77      0.84    159571\n",
            "weighted avg       0.97      0.97      0.97    159571\n",
            "\n",
            "Testing Probability is [0.97059625 0.02597274 0.02220135 ... 0.02597274 0.02597274 0.27392676]\n",
            "Train probability is 0.9975371464739834\n",
            "              precision    recall  f1-score   support\n",
            "\n",
            "           0       1.00      1.00      1.00    159093\n",
            "           1       0.90      0.20      0.33       478\n",
            "\n",
            "    accuracy                           1.00    159571\n",
            "   macro avg       0.95      0.60      0.66    159571\n",
            "weighted avg       1.00      1.00      1.00    159571\n",
            "\n",
            "Testing Probability is [0.01884598 0.00167631 0.00125863 ... 0.00167631 0.00167631 0.00167631]\n",
            "Train probability is 0.9656579202988012\n",
            "              precision    recall  f1-score   support\n",
            "\n",
            "           0       0.97      1.00      0.98    151694\n",
            "           1       0.88      0.35      0.50      7877\n",
            "\n",
            "    accuracy                           0.97    159571\n",
            "   macro avg       0.92      0.68      0.74    159571\n",
            "weighted avg       0.96      0.97      0.96    159571\n",
            "\n",
            "Testing Probability is [0.9219022  0.03213411 0.0237368  ... 0.02870003 0.03213411 0.12742919]\n",
            "Train probability is 0.9926678406477367\n",
            "              precision    recall  f1-score   support\n",
            "\n",
            "           0       0.99      1.00      1.00    158166\n",
            "           1       0.85      0.20      0.33      1405\n",
            "\n",
            "    accuracy                           0.99    159571\n",
            "   macro avg       0.92      0.60      0.66    159571\n",
            "weighted avg       0.99      0.99      0.99    159571\n",
            "\n",
            "Testing Probability is [0.0595559  0.0052943  0.00401165 ... 0.00454326 0.0168083  0.00757384]\n"
          ],
          "name": "stdout"
        }
      ]
    },
    {
      "cell_type": "markdown",
      "metadata": {
        "id": "zC0aTQq8sipi"
      },
      "source": [
        "The above results, demostrate the train data accuracy percentage and test data probablity prediction of each data. The precision and recall and f1-score of each class is calculated, \n",
        "The Precision is highest for toxic and lowest for severe_toxic, meaning, the prediction the actual correct values out of all correct values is good for the model.\n",
        "The recall is highest for obscene category and lowest for severe_toxic. ie the prediction of actual true values out of the all the predictions. \n",
        "The train accuracy is highest for threat and lowest for toxic classes. "
      ]
    },
    {
      "cell_type": "code",
      "metadata": {
        "id": "o2qqQCj29LQ6"
      },
      "source": [
        "\n",
        "submission_binary1.to_csv('submission_binary_xgb.csv',index=False)"
      ],
      "execution_count": null,
      "outputs": []
    },
    {
      "cell_type": "markdown",
      "metadata": {
        "id": "S14HarsjuydJ"
      },
      "source": [
        "In the kaggle competion, after submiting rge csv file, the obtained accuracy is 95.2% on the test data probabilty for all the classes. The model performance based on the evaluation metrics, like precsion, recall and accuracy quatify the precision is quite high for all the classes. The recall is  quite low for all the categories overall. To predict the classes of the comments, XGBoost has low recall and high precision, which means that the model does not catch all possible prediction, it misses few predictions of the classes. "
      ]
    },
    {
      "cell_type": "code",
      "metadata": {
        "colab": {
          "base_uri": "https://localhost:8080/"
        },
        "id": "JIYnpJ8T65T9",
        "outputId": "d4d7080f-6a6a-43f0-af33-d5a69f4d94fc"
      },
      "source": [
        "test_y"
      ],
      "execution_count": null,
      "outputs": [
        {
          "output_type": "execute_result",
          "data": {
            "text/plain": [
              "array([[0.02037585, 0.97962415]], dtype=float32)"
            ]
          },
          "metadata": {
            "tags": []
          },
          "execution_count": 60
        }
      ]
    },
    {
      "cell_type": "code",
      "metadata": {
        "id": "NrGrHFjRlnTM"
      },
      "source": [
        ""
      ],
      "execution_count": null,
      "outputs": []
    }
  ]
}